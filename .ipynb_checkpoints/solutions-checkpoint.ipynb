{
 "cells": [
  {
   "cell_type": "markdown",
   "id": "57178bc3",
   "metadata": {},
   "source": [
    "# Solution-1 using python sqlite3\n"
   ]
  },
  {
   "cell_type": "code",
   "execution_count": 32,
   "id": "9be346ed",
   "metadata": {},
   "outputs": [],
   "source": [
    "#importing required libraries\n",
    "import sqlite3 as s\n",
    "import csv"
   ]
  },
  {
   "cell_type": "code",
   "execution_count": 33,
   "id": "db073ac4",
   "metadata": {},
   "outputs": [],
   "source": [
    "#creating the connection and creating database\n",
    "connection = s.connect('C:\\\\Users\\\\Dinesh ram\\\\Downloads\\\\Data Engineer - Assignment Database.db')\n",
    "cur = connection.cursor()"
   ]
  },
  {
   "cell_type": "code",
   "execution_count": 34,
   "id": "837ac5e3",
   "metadata": {},
   "outputs": [
    {
     "name": "stdout",
     "output_type": "stream",
     "text": [
      "Table: sqlite_sequence\n",
      "Column: name\n",
      "Column: seq\n",
      "\n",
      "Table: sales\n",
      "Column: sales_id\n",
      "Column: customer_id\n",
      "\n",
      "Table: orders\n",
      "Column: order_id\n",
      "Column: sales_id\n",
      "Column: item_id\n",
      "Column: quantity\n",
      "\n",
      "Table: items\n",
      "Column: item_id\n",
      "Column: item_name\n",
      "\n",
      "Table: customers\n",
      "Column: customer_id\n",
      "Column: age\n",
      "\n"
     ]
    }
   ],
   "source": [
    "cur.execute(\"SELECT name FROM sqlite_master WHERE type='table';\")\n",
    "#fetch all table names\n",
    "tables = cur.fetchall()\n",
    "for table in tables:\n",
    "    table_name = table[0]\n",
    "    print(\"Table:\", table_name)   \n",
    "    cur.execute(\"PRAGMA table_info('{}')\".format(table_name))  \n",
    "    #fetch all column info\n",
    "    columns = cur.fetchall()\n",
    "    #print column names\n",
    "    for column in columns:\n",
    "        print(\"Column:\", column[1])\n",
    "    print() "
   ]
  },
  {
   "cell_type": "code",
   "execution_count": 35,
   "id": "2834ffbc",
   "metadata": {},
   "outputs": [],
   "source": [
    "'''extract the total quantities of each item bought per customer aged 18-35.\n",
    "- For each customer, get the sum of each item\n",
    "- Items with no purchase (total quantity=0) should be omitted from the final\n",
    "list'''\n",
    "\n",
    "command = '''select c.customer_id as customer,c.age as Age,i.item_name as item, sum(o.quantity) \n",
    "             from customers as c  \n",
    "             join sales as s on  c.customer_id = s.customer_id \n",
    "             join orders as o on s.sales_id = o.sales_id  \n",
    "             join items as i on i.item_id = o.item_id  \n",
    "             where age between 18 and 35 and quantity is not null or 0  group by customer,item '''"
   ]
  },
  {
   "cell_type": "code",
   "execution_count": 36,
   "id": "e0b3644d",
   "metadata": {},
   "outputs": [
    {
     "data": {
      "text/plain": [
       "<sqlite3.Cursor at 0x1778d118e40>"
      ]
     },
     "execution_count": 36,
     "metadata": {},
     "output_type": "execute_result"
    }
   ],
   "source": [
    "cur.execute(command)\n"
   ]
  },
  {
   "cell_type": "code",
   "execution_count": 37,
   "id": "e34b370e",
   "metadata": {},
   "outputs": [],
   "source": [
    "\n",
    "with open('./output_sql.csv', 'w', newline='') as file:\n",
    "    writer = csv.writer(file, delimiter=';')\n",
    "    writer.writerow(['customer_id', 'item', 'total_quantity'])\n",
    "    for row in cur.fetchall():\n",
    "        writer.writerow(row)"
   ]
  },
  {
   "cell_type": "code",
   "execution_count": 38,
   "id": "3c07ceb6",
   "metadata": {},
   "outputs": [],
   "source": [
    "#commit and close the connection\n",
    "connection.commit()\n",
    "connection.close()"
   ]
  },
  {
   "cell_type": "markdown",
   "id": "2e43c08e",
   "metadata": {},
   "source": [
    "# Solution 2 using python pandas\n"
   ]
  },
  {
   "cell_type": "code",
   "execution_count": 39,
   "id": "917b7787",
   "metadata": {},
   "outputs": [],
   "source": [
    "import pandas as pd\n",
    "import sqlite3 as s\n",
    "\n",
    "connection = s.connect('C:\\\\Users\\\\Dinesh ram\\\\Downloads\\\\Data Engineer - Assignment Database.db')"
   ]
  },
  {
   "cell_type": "code",
   "execution_count": 40,
   "id": "fa5efc25",
   "metadata": {},
   "outputs": [],
   "source": [
    "list_of_tables = ['customers','items','sales','orders']\n",
    "query_c = 'select * from customers'\n",
    "query_i = 'select * from items'\n",
    "query_s = 'select * from sales'\n",
    "query_o = 'select * from orders'\n",
    "\n",
    "df_customer = pd.read_sql(query_c,connection)\n",
    "df_items = pd.read_sql(query_i,connection)\n",
    "df_sales = pd.read_sql(query_s,connection)\n",
    "df_orders = pd.read_sql(query_o,connection)"
   ]
  },
  {
   "cell_type": "code",
   "execution_count": 41,
   "id": "996a9883",
   "metadata": {},
   "outputs": [
    {
     "data": {
      "text/html": [
       "<div>\n",
       "<style scoped>\n",
       "    .dataframe tbody tr th:only-of-type {\n",
       "        vertical-align: middle;\n",
       "    }\n",
       "\n",
       "    .dataframe tbody tr th {\n",
       "        vertical-align: top;\n",
       "    }\n",
       "\n",
       "    .dataframe thead th {\n",
       "        text-align: right;\n",
       "    }\n",
       "</style>\n",
       "<table border=\"1\" class=\"dataframe\">\n",
       "  <thead>\n",
       "    <tr style=\"text-align: right;\">\n",
       "      <th></th>\n",
       "      <th>customer_id</th>\n",
       "      <th>age</th>\n",
       "    </tr>\n",
       "  </thead>\n",
       "  <tbody>\n",
       "    <tr>\n",
       "      <th>0</th>\n",
       "      <td>1</td>\n",
       "      <td>38</td>\n",
       "    </tr>\n",
       "    <tr>\n",
       "      <th>1</th>\n",
       "      <td>2</td>\n",
       "      <td>43</td>\n",
       "    </tr>\n",
       "    <tr>\n",
       "      <th>2</th>\n",
       "      <td>3</td>\n",
       "      <td>13</td>\n",
       "    </tr>\n",
       "    <tr>\n",
       "      <th>3</th>\n",
       "      <td>4</td>\n",
       "      <td>39</td>\n",
       "    </tr>\n",
       "    <tr>\n",
       "      <th>4</th>\n",
       "      <td>5</td>\n",
       "      <td>18</td>\n",
       "    </tr>\n",
       "    <tr>\n",
       "      <th>5</th>\n",
       "      <td>6</td>\n",
       "      <td>78</td>\n",
       "    </tr>\n",
       "    <tr>\n",
       "      <th>6</th>\n",
       "      <td>7</td>\n",
       "      <td>30</td>\n",
       "    </tr>\n",
       "    <tr>\n",
       "      <th>7</th>\n",
       "      <td>8</td>\n",
       "      <td>70</td>\n",
       "    </tr>\n",
       "    <tr>\n",
       "      <th>8</th>\n",
       "      <td>9</td>\n",
       "      <td>25</td>\n",
       "    </tr>\n",
       "    <tr>\n",
       "      <th>9</th>\n",
       "      <td>10</td>\n",
       "      <td>76</td>\n",
       "    </tr>\n",
       "  </tbody>\n",
       "</table>\n",
       "</div>"
      ],
      "text/plain": [
       "   customer_id  age\n",
       "0            1   38\n",
       "1            2   43\n",
       "2            3   13\n",
       "3            4   39\n",
       "4            5   18\n",
       "5            6   78\n",
       "6            7   30\n",
       "7            8   70\n",
       "8            9   25\n",
       "9           10   76"
      ]
     },
     "execution_count": 41,
     "metadata": {},
     "output_type": "execute_result"
    }
   ],
   "source": [
    "df_customer.head(10)"
   ]
  },
  {
   "cell_type": "code",
   "execution_count": 42,
   "id": "52d5408c",
   "metadata": {},
   "outputs": [
    {
     "name": "stdout",
     "output_type": "stream",
     "text": [
      "(100, 2)\n",
      "(3, 2)\n",
      "(500, 2)\n",
      "(1500, 4)\n"
     ]
    }
   ],
   "source": [
    "#checking the null values count from each dataframe\n",
    "df_list=[df_customer,df_items,df_sales,df_orders]\n",
    "\n",
    "for i in df_list:\n",
    "    print(i.shape)"
   ]
  },
  {
   "cell_type": "code",
   "execution_count": 43,
   "id": "da28d4f9",
   "metadata": {},
   "outputs": [
    {
     "name": "stdout",
     "output_type": "stream",
     "text": [
      "customer_id    0\n",
      "age            0\n",
      "dtype: int64\n",
      "item_id      0\n",
      "item_name    0\n",
      "dtype: int64\n",
      "sales_id       0\n",
      "customer_id    0\n",
      "dtype: int64\n",
      "order_id      0\n",
      "sales_id      0\n",
      "item_id       0\n",
      "quantity    553\n",
      "dtype: int64\n"
     ]
    }
   ],
   "source": [
    "#checking the null values count from each dataframe\n",
    "df_list=[df_customer,df_items,df_sales,df_orders]\n",
    "\n",
    "for i in df_list:\n",
    "    print(i.isnull().sum()) "
   ]
  },
  {
   "cell_type": "code",
   "execution_count": 44,
   "id": "3e02817d",
   "metadata": {},
   "outputs": [
    {
     "data": {
      "text/plain": [
       "38    6\n",
       "55    4\n",
       "30    4\n",
       "17    3\n",
       "15    3\n",
       "69    3\n",
       "19    3\n",
       "54    3\n",
       "50    3\n",
       "70    3\n",
       "78    3\n",
       "13    3\n",
       "53    2\n",
       "61    2\n",
       "43    2\n",
       "79    2\n",
       "23    2\n",
       "58    2\n",
       "56    2\n",
       "74    2\n",
       "73    2\n",
       "37    2\n",
       "71    2\n",
       "72    2\n",
       "39    2\n",
       "59    2\n",
       "22    2\n",
       "21    2\n",
       "42    2\n",
       "14    2\n",
       "76    2\n",
       "18    2\n",
       "65    1\n",
       "47    1\n",
       "57    1\n",
       "51    1\n",
       "35    1\n",
       "33    1\n",
       "45    1\n",
       "26    1\n",
       "44    1\n",
       "29    1\n",
       "32    1\n",
       "60    1\n",
       "52    1\n",
       "25    1\n",
       "24    1\n",
       "31    1\n",
       "20    1\n",
       "66    1\n",
       "41    1\n",
       "Name: age, dtype: int64"
      ]
     },
     "execution_count": 44,
     "metadata": {},
     "output_type": "execute_result"
    }
   ],
   "source": [
    "#count of each age number\n",
    "df_customer['age'].value_counts()\n"
   ]
  },
  {
   "cell_type": "code",
   "execution_count": 45,
   "id": "fd7e2224",
   "metadata": {},
   "outputs": [
    {
     "data": {
      "text/plain": [
       "500"
      ]
     },
     "execution_count": 45,
     "metadata": {},
     "output_type": "execute_result"
    }
   ],
   "source": [
    "#total number of unique sales_id\n",
    "len(df_sales['sales_id'].unique())"
   ]
  },
  {
   "cell_type": "code",
   "execution_count": 49,
   "id": "51a6b470",
   "metadata": {},
   "outputs": [
    {
     "name": "stdout",
     "output_type": "stream",
     "text": [
      "    customer_id  age item_name  quantity\n",
      "0             5   18         x         3\n",
      "1             5   18         y         3\n",
      "2             5   18         z         4\n",
      "3             7   30         x        14\n",
      "4             7   30         y        19\n",
      "..          ...  ...       ...       ...\n",
      "67           97   23         y         2\n",
      "68           97   23         z         3\n",
      "69          100   30         x         1\n",
      "70          100   30         y         1\n",
      "71          100   30         z         5\n",
      "\n",
      "[70 rows x 4 columns]\n"
     ]
    }
   ],
   "source": [
    "\n",
    "#merge the dataframes \n",
    "merged_df = df_customer.merge(df_sales, on='customer_id').merge(df_orders, on='sales_id').merge(df_items, on='item_id')\n",
    "\n",
    "#filter customers aged 18-35 and calculate the total quantities\n",
    "result_df = merged_df[(merged_df['age'] >= 18) & (merged_df['age'] <= 35)].groupby(['customer_id','age','item_name'])['quantity'].sum().reset_index()\n",
    "\n",
    "\n",
    "# remove items with total quantity of 0\n",
    "result_df = result_df[result_df['quantity'] > 0]\n",
    "\n",
    "# convert quantities to integers to remove decimal points\n",
    "result_df['quantity'] = result_df['quantity'].astype(int)\n",
    "\n",
    "print(result_df)\n",
    "\n",
    "\n"
   ]
  },
  {
   "cell_type": "code",
   "execution_count": 54,
   "id": "61b75d70",
   "metadata": {},
   "outputs": [],
   "source": [
    "# export result to csv with delimiter ';'\n",
    "result_df.to_csv('./output_pandas.csv', sep=';', index=False)"
   ]
  },
  {
   "cell_type": "code",
   "execution_count": null,
   "id": "d931f08d",
   "metadata": {},
   "outputs": [],
   "source": []
  }
 ],
 "metadata": {
  "kernelspec": {
   "display_name": "Python 3 (ipykernel)",
   "language": "python",
   "name": "python3"
  },
  "language_info": {
   "codemirror_mode": {
    "name": "ipython",
    "version": 3
   },
   "file_extension": ".py",
   "mimetype": "text/x-python",
   "name": "python",
   "nbconvert_exporter": "python",
   "pygments_lexer": "ipython3",
   "version": "3.11.3"
  }
 },
 "nbformat": 4,
 "nbformat_minor": 5
}
