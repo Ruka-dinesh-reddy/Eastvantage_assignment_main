{
 "cells": [
  {
   "cell_type": "markdown",
   "id": "39950319",
   "metadata": {},
   "source": [
    "# Solution-1 using python sqlite3\n"
   ]
  },
  {
   "cell_type": "code",
   "execution_count": 1,
   "id": "22b32f99",
   "metadata": {},
   "outputs": [],
   "source": [
    "#importing required libraries\n",
    "import sqlite3 as s\n",
    "import csv"
   ]
  },
  {
   "cell_type": "code",
   "execution_count": 3,
   "id": "db073ac4",
   "metadata": {},
   "outputs": [],
   "source": [
    "#creating the connection and creating database\n",
    "connection = s.connect('.\\Data Engineer - Assignment Database.db')\n",
    "cur = connection.cursor()"
   ]
  },
  {
   "cell_type": "code",
   "execution_count": null,
   "id": "837ac5e3",
   "metadata": {},
   "outputs": [],
   "source": [
    "cur.execute(\"SELECT name FROM sqlite_master WHERE type='table';\")\n",
    "#fetch all table names\n",
    "tables = cur.fetchall()\n",
    "for table in tables:\n",
    "    table_name = table[0]\n",
    "    print(\"Table:\", table_name)   \n",
    "    cur.execute(\"PRAGMA table_info('{}')\".format(table_name))  \n",
    "    #fetch all column info\n",
    "    columns = cur.fetchall()\n",
    "    #print column names\n",
    "    for column in columns:\n",
    "        print(\"Column:\", column[1])\n",
    "    print() "
   ]
  },
  {
   "cell_type": "code",
   "execution_count": null,
   "id": "2834ffbc",
   "metadata": {},
   "outputs": [],
   "source": [
    "'''extract the total quantities of each item bought per customer aged 18-35.\n",
    "- For each customer, get the sum of each item\n",
    "- Items with no purchase (total quantity=0) should be omitted from the final\n",
    "list'''\n",
    "\n",
    "command = '''select c.customer_id as customer,c.age as Age,i.item_name as item, sum(o.quantity) \n",
    "             from customers as c  \n",
    "             join sales as s on  c.customer_id = s.customer_id \n",
    "             join orders as o on s.sales_id = o.sales_id  \n",
    "             join items as i on i.item_id = o.item_id  \n",
    "             where age between 18 and 35 and quantity is not null or 0  group by customer,item '''"
   ]
  },
  {
   "cell_type": "code",
   "execution_count": null,
   "id": "e0b3644d",
   "metadata": {},
   "outputs": [],
   "source": [
    "cur.execute(command)\n"
   ]
  },
  {
   "cell_type": "code",
   "execution_count": null,
   "id": "e34b370e",
   "metadata": {},
   "outputs": [],
   "source": [
    "\n",
    "with open('./output_sql.csv', 'w', newline='') as file:\n",
    "    writer = csv.writer(file, delimiter=';')\n",
    "    writer.writerow(['customer_id', 'item', 'total_quantity'])\n",
    "    for row in cur.fetchall():\n",
    "        writer.writerow(row)"
   ]
  },
  {
   "cell_type": "code",
   "execution_count": null,
   "id": "3c07ceb6",
   "metadata": {},
   "outputs": [],
   "source": [
    "#commit and close the connection\n",
    "connection.commit()\n",
    "connection.close()"
   ]
  },
  {
   "cell_type": "markdown",
   "id": "fa4a3283",
   "metadata": {},
   "source": [
    "# Solution 2 using python pandas\n"
   ]
  },
  {
   "cell_type": "code",
   "execution_count": null,
   "id": "917b7787",
   "metadata": {},
   "outputs": [],
   "source": [
    "import pandas as pd\n",
    "import sqlite3 as s\n",
    "\n",
    "connection = s.connect('.\\Data Engineer - Assignment Database.db')"
   ]
  },
  {
   "cell_type": "code",
   "execution_count": null,
   "id": "fa5efc25",
   "metadata": {},
   "outputs": [],
   "source": [
    "list_of_tables = ['customers','items','sales','orders']\n",
    "query_c = 'select * from customers'\n",
    "query_i = 'select * from items'\n",
    "query_s = 'select * from sales'\n",
    "query_o = 'select * from orders'\n",
    "\n",
    "df_customer = pd.read_sql(query_c,connection)\n",
    "df_items = pd.read_sql(query_i,connection)\n",
    "df_sales = pd.read_sql(query_s,connection)\n",
    "df_orders = pd.read_sql(query_o,connection)"
   ]
  },
  {
   "cell_type": "code",
   "execution_count": null,
   "id": "996a9883",
   "metadata": {},
   "outputs": [],
   "source": [
    "df_customer.head(10)"
   ]
  },
  {
   "cell_type": "code",
   "execution_count": null,
   "id": "52d5408c",
   "metadata": {},
   "outputs": [],
   "source": [
    "#checking the null values count from each dataframe\n",
    "df_list=[df_customer,df_items,df_sales,df_orders]\n",
    "\n",
    "for i in df_list:\n",
    "    print(i.shape)"
   ]
  },
  {
   "cell_type": "code",
   "execution_count": null,
   "id": "da28d4f9",
   "metadata": {},
   "outputs": [],
   "source": [
    "#checking the null values count from each dataframe\n",
    "df_list=[df_customer,df_items,df_sales,df_orders]\n",
    "\n",
    "for i in df_list:\n",
    "    print(i.isnull().sum()) "
   ]
  },
  {
   "cell_type": "code",
   "execution_count": null,
   "id": "3e02817d",
   "metadata": {},
   "outputs": [],
   "source": [
    "#count of each age number\n",
    "df_customer['age'].value_counts()\n"
   ]
  },
  {
   "cell_type": "code",
   "execution_count": null,
   "id": "fd7e2224",
   "metadata": {},
   "outputs": [],
   "source": [
    "#total number of unique sales_id\n",
    "len(df_sales['sales_id'].unique())"
   ]
  },
  {
   "cell_type": "code",
   "execution_count": null,
   "id": "51a6b470",
   "metadata": {},
   "outputs": [],
   "source": [
    "\n",
    "#merge the dataframes \n",
    "merged_df = df_customer.merge(df_sales, on='customer_id').merge(df_orders, on='sales_id').merge(df_items, on='item_id')\n",
    "\n",
    "#filter customers aged 18-35 and calculate the total quantities\n",
    "result_df = merged_df[(merged_df['age'] >= 18) & (merged_df['age'] <= 35)].groupby(['customer_id','age','item_name'])['quantity'].sum().reset_index()\n",
    "\n",
    "\n",
    "# remove items with total quantity of 0\n",
    "result_df = result_df[result_df['quantity'] > 0]\n",
    "\n",
    "# convert quantities to integers to remove decimal points\n",
    "result_df['quantity'] = result_df['quantity'].astype(int)\n",
    "\n",
    "print(result_df)\n",
    "\n",
    "\n"
   ]
  },
  {
   "cell_type": "code",
   "execution_count": null,
   "id": "61b75d70",
   "metadata": {},
   "outputs": [],
   "source": [
    "# export result to csv with delimiter ';'\n",
    "result_df.to_csv('./output_pandas.csv', sep=';', index=False)"
   ]
  },
  {
   "cell_type": "code",
   "execution_count": null,
   "id": "a36cc733",
   "metadata": {},
   "outputs": [],
   "source": []
  }
 ],
 "metadata": {
  "kernelspec": {
   "display_name": "Python 3 (ipykernel)",
   "language": "python",
   "name": "python3"
  },
  "language_info": {
   "codemirror_mode": {
    "name": "ipython",
    "version": 3
   },
   "file_extension": ".py",
   "mimetype": "text/x-python",
   "name": "python",
   "nbconvert_exporter": "python",
   "pygments_lexer": "ipython3",
   "version": "3.11.3"
  }
 },
 "nbformat": 4,
 "nbformat_minor": 5
}
